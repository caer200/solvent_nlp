{
  "cells": [
    {
      "cell_type": "markdown",
      "metadata": {
        "collapsed": true,
        "pycharm": {
          "name": "#%% md\n"
        },
        "id": "LGw3pyjs6xqk"
      },
      "source": [
        "# Crystallization solvent extraction with NLP\n"
      ]
    },
    {
      "cell_type": "markdown",
      "source": [
        "Installing required packages."
      ],
      "metadata": {
        "id": "ogpNwxgr8E7R"
      }
    },
    {
      "cell_type": "code",
      "source": [
        "!pip install chemdataextractor # for NLP\n",
        "!pip install fuzzywuzzy        # for SI download\n",
        "!pip install selenium          # for SI download\n",
        "!cde data download            # download the data for chemdataextractor"
      ],
      "metadata": {
        "id": "0JDIkXmO61ff",
        "outputId": "d7cc281a-351b-407a-9e0f-5fb79df0000f",
        "colab": {
          "base_uri": "https://localhost:8080/"
        }
      },
      "execution_count": null,
      "outputs": [
        {
          "output_type": "stream",
          "name": "stdout",
          "text": [
            "Collecting chemdataextractor\n",
            "  Downloading ChemDataExtractor-1.3.0-py3-none-any.whl (182 kB)\n",
            "\u001b[?25l\r\u001b[K     |█▉                              | 10 kB 27.2 MB/s eta 0:00:01\r\u001b[K     |███▋                            | 20 kB 25.1 MB/s eta 0:00:01\r\u001b[K     |█████▍                          | 30 kB 11.4 MB/s eta 0:00:01\r\u001b[K     |███████▏                        | 40 kB 9.0 MB/s eta 0:00:01\r\u001b[K     |█████████                       | 51 kB 6.4 MB/s eta 0:00:01\r\u001b[K     |██████████▊                     | 61 kB 7.5 MB/s eta 0:00:01\r\u001b[K     |████████████▌                   | 71 kB 7.9 MB/s eta 0:00:01\r\u001b[K     |██████████████▍                 | 81 kB 8.2 MB/s eta 0:00:01\r\u001b[K     |████████████████▏               | 92 kB 9.1 MB/s eta 0:00:01\r\u001b[K     |██████████████████              | 102 kB 7.9 MB/s eta 0:00:01\r\u001b[K     |███████████████████▊            | 112 kB 7.9 MB/s eta 0:00:01\r\u001b[K     |█████████████████████▌          | 122 kB 7.9 MB/s eta 0:00:01\r\u001b[K     |███████████████████████▎        | 133 kB 7.9 MB/s eta 0:00:01\r\u001b[K     |█████████████████████████       | 143 kB 7.9 MB/s eta 0:00:01\r\u001b[K     |██████████████████████████▉     | 153 kB 7.9 MB/s eta 0:00:01\r\u001b[K     |████████████████████████████▊   | 163 kB 7.9 MB/s eta 0:00:01\r\u001b[K     |██████████████████████████████▌ | 174 kB 7.9 MB/s eta 0:00:01\r\u001b[K     |████████████████████████████████| 182 kB 7.9 MB/s \n",
            "\u001b[?25hRequirement already satisfied: click in /usr/local/lib/python3.7/dist-packages (from chemdataextractor) (7.1.2)\n",
            "Requirement already satisfied: nltk in /usr/local/lib/python3.7/dist-packages (from chemdataextractor) (3.2.5)\n",
            "Collecting cssselect\n",
            "  Downloading cssselect-1.1.0-py2.py3-none-any.whl (16 kB)\n",
            "Collecting python-crfsuite\n",
            "  Downloading python_crfsuite-0.9.8-cp37-cp37m-manylinux_2_17_x86_64.manylinux2014_x86_64.whl (965 kB)\n",
            "\u001b[K     |████████████████████████████████| 965 kB 51.9 MB/s \n",
            "\u001b[?25hCollecting DAWG\n",
            "  Downloading DAWG-0.8.0.tar.gz (371 kB)\n",
            "\u001b[K     |████████████████████████████████| 371 kB 45.2 MB/s \n",
            "\u001b[?25hRequirement already satisfied: beautifulsoup4 in /usr/local/lib/python3.7/dist-packages (from chemdataextractor) (4.6.3)\n",
            "Requirement already satisfied: PyYAML in /usr/local/lib/python3.7/dist-packages (from chemdataextractor) (3.13)\n",
            "Collecting pdfminer.six\n",
            "  Downloading pdfminer.six-20220319-py3-none-any.whl (5.6 MB)\n",
            "\u001b[K     |████████████████████████████████| 5.6 MB 5.2 MB/s \n",
            "\u001b[?25hRequirement already satisfied: six in /usr/local/lib/python3.7/dist-packages (from chemdataextractor) (1.15.0)\n",
            "Requirement already satisfied: appdirs in /usr/local/lib/python3.7/dist-packages (from chemdataextractor) (1.4.4)\n",
            "Requirement already satisfied: requests in /usr/local/lib/python3.7/dist-packages (from chemdataextractor) (2.23.0)\n",
            "Requirement already satisfied: python-dateutil in /usr/local/lib/python3.7/dist-packages (from chemdataextractor) (2.8.2)\n",
            "Requirement already satisfied: lxml in /usr/local/lib/python3.7/dist-packages (from chemdataextractor) (4.2.6)\n",
            "Collecting cryptography\n",
            "  Downloading cryptography-36.0.2-cp36-abi3-manylinux_2_24_x86_64.whl (3.6 MB)\n",
            "\u001b[K     |████████████████████████████████| 3.6 MB 43.0 MB/s \n",
            "\u001b[?25hRequirement already satisfied: chardet in /usr/local/lib/python3.7/dist-packages (from pdfminer.six->chemdataextractor) (3.0.4)\n",
            "Requirement already satisfied: cffi>=1.12 in /usr/local/lib/python3.7/dist-packages (from cryptography->pdfminer.six->chemdataextractor) (1.15.0)\n",
            "Requirement already satisfied: pycparser in /usr/local/lib/python3.7/dist-packages (from cffi>=1.12->cryptography->pdfminer.six->chemdataextractor) (2.21)\n",
            "Requirement already satisfied: idna<3,>=2.5 in /usr/local/lib/python3.7/dist-packages (from requests->chemdataextractor) (2.10)\n",
            "Requirement already satisfied: urllib3!=1.25.0,!=1.25.1,<1.26,>=1.21.1 in /usr/local/lib/python3.7/dist-packages (from requests->chemdataextractor) (1.24.3)\n",
            "Requirement already satisfied: certifi>=2017.4.17 in /usr/local/lib/python3.7/dist-packages (from requests->chemdataextractor) (2021.10.8)\n",
            "Building wheels for collected packages: DAWG\n",
            "  Building wheel for DAWG (setup.py) ... \u001b[?25l\u001b[?25hdone\n",
            "  Created wheel for DAWG: filename=DAWG-0.8.0-cp37-cp37m-linux_x86_64.whl size=867631 sha256=ac3a59e665a32f11fb911110a3f904cc648f75870d20c3a0e4131fea004b27df\n",
            "  Stored in directory: /root/.cache/pip/wheels/85/51/a4/2de41ff197786537075027c27b479a38da92f50abc86634445\n",
            "Successfully built DAWG\n",
            "Installing collected packages: cryptography, python-crfsuite, pdfminer.six, DAWG, cssselect, chemdataextractor\n",
            "Successfully installed DAWG-0.8.0 chemdataextractor-1.3.0 cryptography-36.0.2 cssselect-1.1.0 pdfminer.six-20220319 python-crfsuite-0.9.8\n"
          ]
        }
      ]
    },
    {
      "cell_type": "code",
      "source": [
        ""
      ],
      "metadata": {
        "id": "Jto2O1k27Bj_",
        "outputId": "33f57255-8ace-4b5e-b0a0-2b198973e238",
        "colab": {
          "base_uri": "https://localhost:8080/"
        }
      },
      "execution_count": null,
      "outputs": [
        {
          "output_type": "stream",
          "name": "stdout",
          "text": [
            "INFO:chemdataextractor.data:Downloading http://data.chemdataextractor.org/models/cem_crf-1.0.pickle to /root/.local/share/ChemDataExtractor/models/cem_crf-1.0.pickle\n",
            "INFO:chemdataextractor.data:Downloading http://data.chemdataextractor.org/models/cem_crf_chemdner_cemp-1.0.pickle to /root/.local/share/ChemDataExtractor/models/cem_crf_chemdner_cemp-1.0.pickle\n",
            "INFO:chemdataextractor.data:Downloading http://data.chemdataextractor.org/models/cem_dict_cs-1.0.pickle to /root/.local/share/ChemDataExtractor/models/cem_dict_cs-1.0.pickle\n",
            "INFO:chemdataextractor.data:Downloading http://data.chemdataextractor.org/models/cem_dict-1.0.pickle to /root/.local/share/ChemDataExtractor/models/cem_dict-1.0.pickle\n",
            "INFO:chemdataextractor.data:Downloading http://data.chemdataextractor.org/models/clusters_chem1500-1.0.pickle to /root/.local/share/ChemDataExtractor/models/clusters_chem1500-1.0.pickle\n",
            "INFO:chemdataextractor.data:Downloading http://data.chemdataextractor.org/models/pos_ap_genia_nocluster-1.0.pickle to /root/.local/share/ChemDataExtractor/models/pos_ap_genia_nocluster-1.0.pickle\n",
            "INFO:chemdataextractor.data:Downloading http://data.chemdataextractor.org/models/pos_ap_genia-1.0.pickle to /root/.local/share/ChemDataExtractor/models/pos_ap_genia-1.0.pickle\n",
            "INFO:chemdataextractor.data:Downloading http://data.chemdataextractor.org/models/pos_ap_wsj_genia_nocluster-1.0.pickle to /root/.local/share/ChemDataExtractor/models/pos_ap_wsj_genia_nocluster-1.0.pickle\n",
            "INFO:chemdataextractor.data:Downloading http://data.chemdataextractor.org/models/pos_ap_wsj_genia-1.0.pickle to /root/.local/share/ChemDataExtractor/models/pos_ap_wsj_genia-1.0.pickle\n",
            "INFO:chemdataextractor.data:Downloading http://data.chemdataextractor.org/models/pos_ap_wsj_nocluster-1.0.pickle to /root/.local/share/ChemDataExtractor/models/pos_ap_wsj_nocluster-1.0.pickle\n",
            "INFO:chemdataextractor.data:Downloading http://data.chemdataextractor.org/models/pos_ap_wsj-1.0.pickle to /root/.local/share/ChemDataExtractor/models/pos_ap_wsj-1.0.pickle\n",
            "INFO:chemdataextractor.data:Downloading http://data.chemdataextractor.org/models/pos_crf_genia_nocluster-1.0.pickle to /root/.local/share/ChemDataExtractor/models/pos_crf_genia_nocluster-1.0.pickle\n",
            "INFO:chemdataextractor.data:Downloading http://data.chemdataextractor.org/models/pos_crf_genia-1.0.pickle to /root/.local/share/ChemDataExtractor/models/pos_crf_genia-1.0.pickle\n",
            "INFO:chemdataextractor.data:Downloading http://data.chemdataextractor.org/models/pos_crf_wsj_genia_nocluster-1.0.pickle to /root/.local/share/ChemDataExtractor/models/pos_crf_wsj_genia_nocluster-1.0.pickle\n",
            "INFO:chemdataextractor.data:Downloading http://data.chemdataextractor.org/models/pos_crf_wsj_genia-1.0.pickle to /root/.local/share/ChemDataExtractor/models/pos_crf_wsj_genia-1.0.pickle\n",
            "INFO:chemdataextractor.data:Downloading http://data.chemdataextractor.org/models/pos_crf_wsj_nocluster-1.0.pickle to /root/.local/share/ChemDataExtractor/models/pos_crf_wsj_nocluster-1.0.pickle\n",
            "INFO:chemdataextractor.data:Downloading http://data.chemdataextractor.org/models/pos_crf_wsj-1.0.pickle to /root/.local/share/ChemDataExtractor/models/pos_crf_wsj-1.0.pickle\n",
            "INFO:chemdataextractor.data:Downloading http://data.chemdataextractor.org/models/punkt_chem-1.0.pickle to /root/.local/share/ChemDataExtractor/models/punkt_chem-1.0.pickle\n",
            "Successfully downloaded 18 new data packages (0 existing)\n"
          ]
        }
      ]
    },
    {
      "cell_type": "code",
      "source": [
        ""
      ],
      "metadata": {
        "id": "JV2pUoTq7j6s",
        "outputId": "ff5b8632-4277-40e8-df5e-0070b08d76d8",
        "colab": {
          "base_uri": "https://localhost:8080/",
          "height": 916
        }
      },
      "execution_count": null,
      "outputs": [
        {
          "output_type": "stream",
          "name": "stdout",
          "text": [
            "Requirement already satisfied: fuzzywuzzy in /usr/local/lib/python3.7/dist-packages (0.18.0)\n",
            "Collecting selenium\n",
            "  Downloading selenium-4.1.3-py3-none-any.whl (968 kB)\n",
            "\u001b[K     |████████████████████████████████| 968 kB 9.1 MB/s \n",
            "\u001b[?25hCollecting trio-websocket~=0.9\n",
            "  Downloading trio_websocket-0.9.2-py3-none-any.whl (16 kB)\n",
            "Collecting trio~=0.17\n",
            "  Downloading trio-0.20.0-py3-none-any.whl (359 kB)\n",
            "\u001b[K     |████████████████████████████████| 359 kB 46.6 MB/s \n",
            "\u001b[?25hCollecting urllib3[secure,socks]~=1.26\n",
            "  Downloading urllib3-1.26.9-py2.py3-none-any.whl (138 kB)\n",
            "\u001b[K     |████████████████████████████████| 138 kB 58.5 MB/s \n",
            "\u001b[?25hCollecting outcome\n",
            "  Downloading outcome-1.1.0-py2.py3-none-any.whl (9.7 kB)\n",
            "Requirement already satisfied: attrs>=19.2.0 in /usr/local/lib/python3.7/dist-packages (from trio~=0.17->selenium) (21.4.0)\n",
            "Requirement already satisfied: sortedcontainers in /usr/local/lib/python3.7/dist-packages (from trio~=0.17->selenium) (2.4.0)\n",
            "Requirement already satisfied: idna in /usr/local/lib/python3.7/dist-packages (from trio~=0.17->selenium) (2.10)\n",
            "Collecting sniffio\n",
            "  Downloading sniffio-1.2.0-py3-none-any.whl (10 kB)\n",
            "Collecting async-generator>=1.9\n",
            "  Downloading async_generator-1.10-py3-none-any.whl (18 kB)\n",
            "Collecting wsproto>=0.14\n",
            "  Downloading wsproto-1.1.0-py3-none-any.whl (24 kB)\n",
            "Requirement already satisfied: PySocks!=1.5.7,<2.0,>=1.5.6 in /usr/local/lib/python3.7/dist-packages (from urllib3[secure,socks]~=1.26->selenium) (1.7.1)\n",
            "Requirement already satisfied: cryptography>=1.3.4 in /usr/local/lib/python3.7/dist-packages (from urllib3[secure,socks]~=1.26->selenium) (36.0.2)\n",
            "Collecting pyOpenSSL>=0.14\n",
            "  Downloading pyOpenSSL-22.0.0-py2.py3-none-any.whl (55 kB)\n",
            "\u001b[K     |████████████████████████████████| 55 kB 2.8 MB/s \n",
            "\u001b[?25hRequirement already satisfied: certifi in /usr/local/lib/python3.7/dist-packages (from urllib3[secure,socks]~=1.26->selenium) (2021.10.8)\n",
            "Requirement already satisfied: cffi>=1.12 in /usr/local/lib/python3.7/dist-packages (from cryptography>=1.3.4->urllib3[secure,socks]~=1.26->selenium) (1.15.0)\n",
            "Requirement already satisfied: pycparser in /usr/local/lib/python3.7/dist-packages (from cffi>=1.12->cryptography>=1.3.4->urllib3[secure,socks]~=1.26->selenium) (2.21)\n",
            "Collecting h11<1,>=0.9.0\n",
            "  Downloading h11-0.13.0-py3-none-any.whl (58 kB)\n",
            "\u001b[K     |████████████████████████████████| 58 kB 4.2 MB/s \n",
            "\u001b[?25hRequirement already satisfied: typing-extensions in /usr/local/lib/python3.7/dist-packages (from h11<1,>=0.9.0->wsproto>=0.14->trio-websocket~=0.9->selenium) (3.10.0.2)\n",
            "Installing collected packages: sniffio, outcome, h11, async-generator, wsproto, urllib3, trio, pyOpenSSL, trio-websocket, selenium\n",
            "  Attempting uninstall: urllib3\n",
            "    Found existing installation: urllib3 1.24.3\n",
            "    Uninstalling urllib3-1.24.3:\n",
            "      Successfully uninstalled urllib3-1.24.3\n",
            "\u001b[31mERROR: pip's dependency resolver does not currently take into account all the packages that are installed. This behaviour is the source of the following dependency conflicts.\n",
            "requests 2.23.0 requires urllib3!=1.25.0,!=1.25.1,<1.26,>=1.21.1, but you have urllib3 1.26.9 which is incompatible.\n",
            "datascience 0.10.6 requires folium==0.2.1, but you have folium 0.8.3 which is incompatible.\u001b[0m\n",
            "Successfully installed async-generator-1.10 h11-0.13.0 outcome-1.1.0 pyOpenSSL-22.0.0 selenium-4.1.3 sniffio-1.2.0 trio-0.20.0 trio-websocket-0.9.2 urllib3-1.26.9 wsproto-1.1.0\n"
          ]
        },
        {
          "output_type": "display_data",
          "data": {
            "application/vnd.colab-display-data+json": {
              "pip_warning": {
                "packages": [
                  "urllib3"
                ]
              }
            }
          },
          "metadata": {}
        }
      ]
    },
    {
      "cell_type": "markdown",
      "source": [
        "Getting the crystallization data extraction code from our GitHub repository"
      ],
      "metadata": {
        "id": "I9ax2Nay8npV"
      }
    },
    {
      "cell_type": "code",
      "source": [
        "!git clone https://github.com/caer200/solvent_nlp"
      ],
      "metadata": {
        "id": "IS78iKXV7OnC",
        "outputId": "2b2e3882-4df4-409a-c65a-b8ab2ad16415",
        "colab": {
          "base_uri": "https://localhost:8080/"
        }
      },
      "execution_count": null,
      "outputs": [
        {
          "output_type": "stream",
          "name": "stdout",
          "text": [
            "Cloning into 'solvent_nlp'...\n",
            "remote: Enumerating objects: 25, done.\u001b[K\n",
            "remote: Counting objects: 100% (25/25), done.\u001b[K\n",
            "remote: Compressing objects: 100% (21/21), done.\u001b[K\n",
            "remote: Total 25 (delta 8), reused 15 (delta 4), pack-reused 0\u001b[K\n",
            "Unpacking objects: 100% (25/25), done.\n"
          ]
        }
      ]
    },
    {
      "cell_type": "markdown",
      "source": [
        "We first import the required code"
      ],
      "metadata": {
        "collapsed": false,
        "pycharm": {
          "name": "#%% md\n"
        },
        "id": "yg7bQ4QK6xqs"
      }
    },
    {
      "cell_type": "code",
      "execution_count": null,
      "outputs": [],
      "source": [
        "from solvent_nlp.webscraping import *        # this code is for webscraping the PDF SI\n",
        "from solvent_nlp.solvent_parser import *     # this code parses the solvent from text"
      ],
      "metadata": {
        "pycharm": {
          "name": "#%%\n",
          "is_executing": false
        },
        "id": "RTMdNJyr6xqt"
      }
    },
    {
      "cell_type": "markdown",
      "source": [
        "The function below returns a the compound names and solvent used for crystallization \n",
        "from the parsed records. "
      ],
      "metadata": {
        "collapsed": false,
        "pycharm": {
          "name": "#%% md\n",
          "is_executing": false
        },
        "id": "bkuZi_X66xqv"
      }
    },
    {
      "cell_type": "code",
      "execution_count": null,
      "outputs": [],
      "source": [
        "def get_compounds_with_solvent(records):\n",
        "    data = []\n",
        "    for compound in records:\n",
        "        if compound.get(\"crystallization\"):\n",
        "            data.append(compound)\n",
        "    return data"
      ],
      "metadata": {
        "pycharm": {
          "name": "#%%\n"
        },
        "id": "QhNfwSIT6xqw"
      }
    },
    {
      "cell_type": "markdown",
      "source": [
        "Let us fetch a SI using the webscraping code"
      ],
      "metadata": {
        "collapsed": false,
        "pycharm": {
          "name": "#%% md\n"
        },
        "id": "SeQ4LuBC6xq2"
      }
    },
    {
      "cell_type": "code",
      "execution_count": null,
      "outputs": [
        {
          "output_type": "stream",
          "name": "stderr",
          "text": [
            "/content/solvent_nlp/webscraping.py:23: UserWarning: No parser was explicitly specified, so I'm using the best available HTML parser for this system (\"lxml\"). This usually isn't a problem, but if you run this code on another system, or in a different virtual environment, it may use a different parser and behave differently.\n",
            "\n",
            "The code that caused this warning is on line 23 of the file /content/solvent_nlp/webscraping.py. To get rid of this warning, pass the additional argument 'features=\"lxml\"' to the BeautifulSoup constructor.\n",
            "\n",
            "  soup = BeautifulSoup(self.html)\n"
          ]
        }
      ],
      "source": [
        "saveloc = \".\"  # location to save the PDF\n",
        "doi = \"10.1039/C4OB01574F\"   \n",
        "\n",
        "sc = SIScraper(doi=doi, saveloc=saveloc)\n",
        "sc.retrieveSI()"
      ],
      "metadata": {
        "pycharm": {
          "name": "#%%\n",
          "is_executing": false
        },
        "id": "ThTEhorr6xq2",
        "outputId": "1137c46d-84c3-42bf-b045-5bba3e5bd3d7",
        "colab": {
          "base_uri": "https://localhost:8080/"
        }
      }
    },
    {
      "cell_type": "markdown",
      "source": [
        "We use chemdataextractor (https://chemdataextractor.org) to do the processsing followed\n",
        "by tokenization. The rule-based parsing of crystallization solvent is described in the solvent_parser.py.\n",
        "We use the CompundParser that is built-in chemdataextractor and the SolventParser that we develop to extract\n",
        "the crystallization solvent."
      ],
      "metadata": {
        "collapsed": false,
        "pycharm": {
          "name": "#%% md\n"
        },
        "id": "hwjdywwp6xq3"
      }
    },
    {
      "cell_type": "code",
      "execution_count": null,
      "outputs": [
        {
          "output_type": "execute_result",
          "data": {
            "text/plain": [
              "[{'crystallization': [{'solvent': 'DCM / PE'}], 'names': ['Li']},\n",
              " {'crystallization': [{'solvent': 'DCM / PE'}], 'names': ['S1-5']},\n",
              " {'crystallization': [{'solvent': 'DCM and methanol'}],\n",
              "  'labels': ['3i'],\n",
              "  'names': ['(S)-(L)-menthyl [(R)-1-(4-methoxylphenyl)-1-hydroxyethyl] phenylphosphinate']},\n",
              " {'crystallization': [{'solvent': 'DCM and methanol'}],\n",
              "  'labels': ['3j'],\n",
              "  'names': ['(S)-(L)-menthyl [(R)-1-biphenyl-1-hydroxyethyl] phenylphosphinate']},\n",
              " {'crystallization': [{'solvent': 'DCM and methanol'}],\n",
              "  'labels': ['3u'],\n",
              "  'names': ['(S)-(L)-menthyl [ (R)-(2-hydroxy-4-methyl pentan-2-yl ) ] phenylphosphinate']},\n",
              " {'crystallization': [{'solvent': 'DCM'}],\n",
              "  'labels': ['3db'],\n",
              "  'names': ['phenylphosphinate',\n",
              "   'Cyclohexyl [1-hydroxy-1-(4-bromophenyl)ethyl]phenylphosphinate']},\n",
              " {'crystallization': [{'solvent': 'DCM and methanol'}],\n",
              "  'labels': ['3eb'],\n",
              "  'names': ['tert-Butyl [ 1-hydroxy-1-(4-bromophenyl) ethyl]phenylphosphinate',\n",
              "   'tert-Butyl [1-hydroxy-1-(4-bromophenyl)ethyl]phenylphosphinate']},\n",
              " {'crystallization': [{'solvent': 'DCM and methanol'}],\n",
              "  'labels': ['3b'],\n",
              "  'names': ['(S)-(–)-menthyl [(S)-1-(4-bromophenyl)-1-hydroxyethyl]phenylphosphinate',\n",
              "   '(S)-(L)-menthyl [ (R)-1-(4-bromophenyl)-1-hy droxyethyl]phenylphosphina te']},\n",
              " {'crystallization': [{'solvent': 'DCM and methanol'}],\n",
              "  'labels': ['3g'],\n",
              "  'names': ['(S)-(–)-menthyl [(R)-1-(3-nitrophenyl)-1-hydroxyethyl] phenylphosphinate',\n",
              "   '(S)-(L)-menthyl [(S)-1-(3-nitrophenyl)-1-hydroxyethyl] phenylphosphinate']}]"
            ]
          },
          "metadata": {},
          "execution_count": 11
        }
      ],
      "source": [
        "doc = Document.from_file(sc.filename)  # loading the PDF\n",
        "records = doc.records.serialize()  # fetching the results from NLP as a python dict\n",
        "get_compounds_with_solvent(records)"
      ],
      "metadata": {
        "pycharm": {
          "name": "#%% \n",
          "is_executing": false
        },
        "id": "T5rFBr2P6xq5",
        "outputId": "d762f259-ba16-48a3-d655-a45d7b580737",
        "colab": {
          "base_uri": "https://localhost:8080/"
        }
      }
    }
  ],
  "metadata": {
    "kernelspec": {
      "display_name": "Python 3",
      "language": "python",
      "name": "python3"
    },
    "language_info": {
      "codemirror_mode": {
        "name": "ipython",
        "version": 2
      },
      "file_extension": ".py",
      "mimetype": "text/x-python",
      "name": "python",
      "nbconvert_exporter": "python",
      "pygments_lexer": "ipython2",
      "version": "2.7.6"
    },
    "pycharm": {
      "stem_cell": {
        "cell_type": "raw",
        "source": [],
        "metadata": {
          "collapsed": false
        }
      }
    },
    "colab": {
      "name": "Copy of demo.ipynb",
      "provenance": []
    }
  },
  "nbformat": 4,
  "nbformat_minor": 0
}