{
 "cells": [
  {
   "cell_type": "markdown",
   "metadata": {
    "collapsed": true,
    "pycharm": {
     "name": "#%% md\n"
    }
   },
   "source": [
    "# Crystallization solvent extraction with NLP\n"
   ]
  },
  {
   "cell_type": "markdown",
   "source": [
    "We first import the required code"
   ],
   "metadata": {
    "collapsed": false,
    "pycharm": {
     "name": "#%% md\n"
    }
   }
  },
  {
   "cell_type": "code",
   "execution_count": 24,
   "outputs": [],
   "source": [
    "from webscraping import *        # this code is for webscraping the PDF SI\n",
    "from solvent_parser import *     # this code parses the solvent from text"
   ],
   "metadata": {
    "collapsed": false,
    "pycharm": {
     "name": "#%%\n",
     "is_executing": false
    }
   }
  },
  {
   "cell_type": "markdown",
   "source": [
    "The function below returns a the compound names and solvent used for crystallization \n",
    "from the parsed records. "
   ],
   "metadata": {
    "collapsed": false,
    "pycharm": {
     "name": "#%% md\n",
     "is_executing": false
    }
   }
  },
  {
   "cell_type": "code",
   "execution_count": null,
   "outputs": [],
   "source": [
    "def get_compounds_with_solvent(records):\n",
    "    data = []\n",
    "    for compound in records:\n",
    "        if compound.get(\"crystallization\"):\n",
    "            data.append(compound)\n",
    "    return data"
   ],
   "metadata": {
    "collapsed": false,
    "pycharm": {
     "name": "#%%\n"
    }
   }
  },
  {
   "cell_type": "markdown",
   "source": [
    "Let us fetch a SI using the webscraping code"
   ],
   "metadata": {
    "collapsed": false,
    "pycharm": {
     "name": "#%% md\n"
    }
   }
  },
  {
   "cell_type": "code",
   "execution_count": 26,
   "outputs": [],
   "source": [
    "saveloc = \".\"  # location to save the PDF\n",
    "doi = \"10.1039/C4OB01574F\"   \n",
    "\n",
    "sc = SIScraper(doi=doi, saveloc=saveloc)\n",
    "sc.retrieveSI()"
   ],
   "metadata": {
    "collapsed": false,
    "pycharm": {
     "name": "#%%\n",
     "is_executing": false
    }
   }
  },
  {
   "cell_type": "markdown",
   "source": [
    "We use chemdataextractor (https://chemdataextractor.org) to do the processsing followed\n",
    "by tokenization. The rule-based parsing of crystallization solvent is described in the solvent_parser.ipynb.\n",
    "We use the CompundParser that is built-in chemdataextractor and the SolventParser that we develop to extract\n",
    "the crystallization solvent."
   ],
   "metadata": {
    "collapsed": false,
    "pycharm": {
     "name": "#%% md\n"
    }
   }
  },
  {
   "cell_type": "code",
   "execution_count": 27,
   "outputs": [
    {
     "data": {
      "text/plain": "[{'names': ['S1-5'], 'crystallization': [{'solvent': 'DCM / PE'}]},\n {'names': ['(S)-(L)-menthyl [(R)-1-(4-methoxylphenyl)-1-hydroxyethyl] phenylphosphinate'],\n  'labels': ['3i'],\n  'crystallization': [{'solvent': 'DCM and methanol'}]},\n {'names': ['(S)-(L)-menthyl [(R)-1-biphenyl-1-hydroxyethyl] phenylphosphinate'],\n  'labels': ['3j'],\n  'crystallization': [{'solvent': 'DCM and methanol'}]},\n {'names': ['(S)-(L)-menthyl [ (R)-(2-hydroxy-4-methyl pentan-2-yl ) ] phenylphosphinate'],\n  'labels': ['3u'],\n  'crystallization': [{'solvent': 'DCM and methanol'}]},\n {'names': ['phenylphosphinate',\n   'Cyclohexyl [1-hydroxy-1-(4-bromophenyl)ethyl]phenylphosphinate'],\n  'labels': ['3db'],\n  'crystallization': [{'solvent': 'DCM'}]},\n {'names': ['tert-Butyl [ 1-hydroxy-1-(4-bromophenyl) ethyl]phenylphosphinate',\n   'tert-Butyl [1-hydroxy-1-(4-bromophenyl)ethyl]phenylphosphinate'],\n  'labels': ['3eb'],\n  'crystallization': [{'solvent': 'DCM and methanol'}]},\n {'names': ['(S)-(–)-menthyl [(S)-1-(4-bromophenyl)-1-hydroxyethyl]phenylphosphinate',\n   '(S)-(L)-menthyl [ (R)-1-(4-bromophenyl)-1-hy droxyethyl]phenylphosphina te'],\n  'labels': ['3b'],\n  'crystallization': [{'solvent': 'DCM and methanol'}]},\n {'names': ['(S)-(–)-menthyl [(R)-1-(3-nitrophenyl)-1-hydroxyethyl] phenylphosphinate',\n   '(S)-(L)-menthyl [(S)-1-(3-nitrophenyl)-1-hydroxyethyl] phenylphosphinate'],\n  'labels': ['3g'],\n  'crystallization': [{'solvent': 'DCM and methanol'}]},\n {'names': ['α-hydroxyphosphinates'],\n  'roles': ['product'],\n  'crystallization': [{'solvent': 'DCM / PE'}]}]"
     },
     "metadata": {},
     "output_type": "execute_result",
     "execution_count": 27
    }
   ],
   "source": [
    "doc = Document.from_file(sc.filename)  # loading the PDF\n",
    "records = doc.records.serialize()  # fetching the results from NLP as a python dict\n",
    "get_compounds_with_solvent(records)"
   ],
   "metadata": {
    "collapsed": false,
    "pycharm": {
     "name": "#%% \n",
     "is_executing": false
    }
   }
  }
 ],
 "metadata": {
  "kernelspec": {
   "display_name": "Python 3",
   "language": "python",
   "name": "python3"
  },
  "language_info": {
   "codemirror_mode": {
    "name": "ipython",
    "version": 2
   },
   "file_extension": ".py",
   "mimetype": "text/x-python",
   "name": "python",
   "nbconvert_exporter": "python",
   "pygments_lexer": "ipython2",
   "version": "2.7.6"
  },
  "pycharm": {
   "stem_cell": {
    "cell_type": "raw",
    "source": [],
    "metadata": {
     "collapsed": false
    }
   }
  }
 },
 "nbformat": 4,
 "nbformat_minor": 0
}