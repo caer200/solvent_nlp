{
  "cells": [
    {
      "cell_type": "markdown",
      "metadata": {
        "collapsed": true,
        "pycharm": {
          "name": "#%% md\n"
        },
        "id": "LGw3pyjs6xqk"
      },
      "source": [
        "# Crystallization solvent extraction with NLP\n"
      ]
    },
    {
      "cell_type": "markdown",
      "source": [
        "Installing required packages."
      ],
      "metadata": {
        "id": "ogpNwxgr8E7R"
      }
    },
    {
      "cell_type": "code",
      "source": [
        "!pip install chemdataextractor # for NLP\n",
        "!pip install fuzzywuzzy        # for SI download\n",
        "!pip install selenium          # for SI download\n",
        "!cde data download             # download the data for chemdataextractor"
      ],
      "metadata": {
        "id": "0JDIkXmO61ff"
      },
      "execution_count": null,
      "outputs": []
    },
    {
      "cell_type": "markdown",
      "source": [
        "Getting the crystallization data extraction code from our GitHub repository"
      ],
      "metadata": {
        "id": "I9ax2Nay8npV"
      }
    },
    {
      "cell_type": "code",
      "source": [
        "!git clone https://github.com/caer200/solvent_nlp"
      ],
      "metadata": {
        "id": "IS78iKXV7OnC"
      },
      "execution_count": null,
      "outputs": []
    },
    {
      "cell_type": "markdown",
      "source": [
        "We first import the required code"
      ],
      "metadata": {
        "collapsed": false,
        "pycharm": {
          "name": "#%% md\n"
        },
        "id": "yg7bQ4QK6xqs"
      }
    },
    {
      "cell_type": "code",
      "execution_count": null,
      "outputs": [],
      "source": [
        "from solvent_nlp.webscraping import *        # this code is for webscraping the PDF SI\n",
        "from solvent_nlp.solvent_parser import *     # this code parses the solvent from text"
      ],
      "metadata": {
        "pycharm": {
          "name": "#%%\n",
          "is_executing": false
        },
        "id": "RTMdNJyr6xqt"
      }
    },
    {
      "cell_type": "markdown",
      "source": [
        "The function below returns a the compound names and solvent used for crystallization \n",
        "from the parsed records. "
      ],
      "metadata": {
        "collapsed": false,
        "pycharm": {
          "name": "#%% md\n",
          "is_executing": false
        },
        "id": "bkuZi_X66xqv"
      }
    },
    {
      "cell_type": "code",
      "execution_count": null,
      "outputs": [],
      "source": [
        "def get_compounds_with_solvent(records):\n",
        "    data = []\n",
        "    for compound in records:\n",
        "        if compound.get(\"crystallization\"):\n",
        "            data.append(compound)\n",
        "    return data"
      ],
      "metadata": {
        "pycharm": {
          "name": "#%%\n"
        },
        "id": "QhNfwSIT6xqw"
      }
    },
    {
      "cell_type": "markdown",
      "source": [
        "Let us fetch a SI using the webscraping code"
      ],
      "metadata": {
        "collapsed": false,
        "pycharm": {
          "name": "#%% md\n"
        },
        "id": "SeQ4LuBC6xq2"
      }
    },
    {
      "cell_type": "code",
      "execution_count": null,
      "outputs": [
        {
          "output_type": "stream",
          "name": "stderr",
          "text": [
            "/content/solvent_nlp/webscraping.py:23: UserWarning: No parser was explicitly specified, so I'm using the best available HTML parser for this system (\"lxml\"). This usually isn't a problem, but if you run this code on another system, or in a different virtual environment, it may use a different parser and behave differently.\n",
            "\n",
            "The code that caused this warning is on line 23 of the file /content/solvent_nlp/webscraping.py. To get rid of this warning, pass the additional argument 'features=\"lxml\"' to the BeautifulSoup constructor.\n",
            "\n",
            "  soup = BeautifulSoup(self.html)\n"
          ]
        }
      ],
      "source": [
        "saveloc = \".\"  # location to save the PDF\n",
        "doi = \"10.1039/C4OB01574F\"   \n",
        "\n",
        "sc = SIScraper(doi=doi, saveloc=saveloc)\n",
        "sc.retrieveSI()"
      ],
      "metadata": {
        "pycharm": {
          "name": "#%%\n",
          "is_executing": false
        },
        "id": "ThTEhorr6xq2",
        "outputId": "1137c46d-84c3-42bf-b045-5bba3e5bd3d7",
        "colab": {
          "base_uri": "https://localhost:8080/"
        }
      }
    },
    {
      "cell_type": "markdown",
      "source": [
        "We use chemdataextractor (https://chemdataextractor.org) to do the processsing followed\n",
        "by tokenization. The rule-based parsing of crystallization solvent is described in the solvent_parser.py.\n",
        "We use the CompundParser that is built-in chemdataextractor and the SolventParser that we develop to extract\n",
        "the crystallization solvent."
      ],
      "metadata": {
        "collapsed": false,
        "pycharm": {
          "name": "#%% md\n"
        },
        "id": "hwjdywwp6xq3"
      }
    },
    {
      "cell_type": "code",
      "execution_count": null,
      "outputs": [
        {
          "output_type": "execute_result",
          "data": {
            "text/plain": [
              "[{'crystallization': [{'solvent': 'DCM / PE'}], 'names': ['Li']},\n",
              " {'crystallization': [{'solvent': 'DCM / PE'}], 'names': ['S1-5']},\n",
              " {'crystallization': [{'solvent': 'DCM and methanol'}],\n",
              "  'labels': ['3i'],\n",
              "  'names': ['(S)-(L)-menthyl [(R)-1-(4-methoxylphenyl)-1-hydroxyethyl] phenylphosphinate']},\n",
              " {'crystallization': [{'solvent': 'DCM and methanol'}],\n",
              "  'labels': ['3j'],\n",
              "  'names': ['(S)-(L)-menthyl [(R)-1-biphenyl-1-hydroxyethyl] phenylphosphinate']},\n",
              " {'crystallization': [{'solvent': 'DCM and methanol'}],\n",
              "  'labels': ['3u'],\n",
              "  'names': ['(S)-(L)-menthyl [ (R)-(2-hydroxy-4-methyl pentan-2-yl ) ] phenylphosphinate']},\n",
              " {'crystallization': [{'solvent': 'DCM'}],\n",
              "  'labels': ['3db'],\n",
              "  'names': ['phenylphosphinate',\n",
              "   'Cyclohexyl [1-hydroxy-1-(4-bromophenyl)ethyl]phenylphosphinate']},\n",
              " {'crystallization': [{'solvent': 'DCM and methanol'}],\n",
              "  'labels': ['3eb'],\n",
              "  'names': ['tert-Butyl [ 1-hydroxy-1-(4-bromophenyl) ethyl]phenylphosphinate',\n",
              "   'tert-Butyl [1-hydroxy-1-(4-bromophenyl)ethyl]phenylphosphinate']},\n",
              " {'crystallization': [{'solvent': 'DCM and methanol'}],\n",
              "  'labels': ['3b'],\n",
              "  'names': ['(S)-(–)-menthyl [(S)-1-(4-bromophenyl)-1-hydroxyethyl]phenylphosphinate',\n",
              "   '(S)-(L)-menthyl [ (R)-1-(4-bromophenyl)-1-hy droxyethyl]phenylphosphina te']},\n",
              " {'crystallization': [{'solvent': 'DCM and methanol'}],\n",
              "  'labels': ['3g'],\n",
              "  'names': ['(S)-(–)-menthyl [(R)-1-(3-nitrophenyl)-1-hydroxyethyl] phenylphosphinate',\n",
              "   '(S)-(L)-menthyl [(S)-1-(3-nitrophenyl)-1-hydroxyethyl] phenylphosphinate']}]"
            ]
          },
          "metadata": {},
          "execution_count": 11
        }
      ],
      "source": [
        "doc = Document.from_file(sc.filename)  # loading the PDF\n",
        "records = doc.records.serialize()  # fetching the results from NLP as a python dict\n",
        "get_compounds_with_solvent(records)"
      ],
      "metadata": {
        "pycharm": {
          "name": "#%% \n",
          "is_executing": false
        },
        "id": "T5rFBr2P6xq5",
        "outputId": "d762f259-ba16-48a3-d655-a45d7b580737",
        "colab": {
          "base_uri": "https://localhost:8080/"
        }
      }
    }
  ],
  "metadata": {
    "kernelspec": {
      "display_name": "Python 3",
      "language": "python",
      "name": "python3"
    },
    "language_info": {
      "codemirror_mode": {
        "name": "ipython",
        "version": 2
      },
      "file_extension": ".py",
      "mimetype": "text/x-python",
      "name": "python",
      "nbconvert_exporter": "python",
      "pygments_lexer": "ipython2",
      "version": "2.7.6"
    },
    "pycharm": {
      "stem_cell": {
        "cell_type": "raw",
        "source": [],
        "metadata": {
          "collapsed": false
        }
      }
    },
    "colab": {
      "name": "Copy of demo.ipynb",
      "provenance": [],
      "collapsed_sections": []
    }
  },
  "nbformat": 4,
  "nbformat_minor": 0
}
